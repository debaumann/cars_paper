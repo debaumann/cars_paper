{
 "cells": [
  {
   "cell_type": "code",
   "execution_count": 1,
   "metadata": {},
   "outputs": [],
   "source": [
    "import numpy as np\n",
    "import os \n",
    "import sys\n"
   ]
  },
  {
   "cell_type": "code",
   "execution_count": 66,
   "metadata": {},
   "outputs": [
    {
     "name": "stdout",
     "output_type": "stream",
     "text": [
      "['box_use_01.egocam.dist.npy', 'box_use_01.mano.npy', 'box_use_01.object.npy', 'box_use_01.smplx.npy']\n"
     ]
    }
   ],
   "source": [
    "path_to_data = '/Users/dennisbaumann/cars_paper/data/s01'\n",
    "npy_files = sorted([f for f in os.listdir(path_to_data) if f.endswith('.npy')])\n",
    "print(npy_files[4:8])\n",
    "data = [np.load(os.path.join(path_to_data, f), allow_pickle=True) for f in npy_files[4:8]]"
   ]
  },
  {
   "cell_type": "code",
   "execution_count": 58,
   "metadata": {},
   "outputs": [],
   "source": [
    "data_dicts = []\n",
    "for obj in data:\n",
    "    if isinstance(obj, np.ndarray) and obj.dtype == 'O':\n",
    "        obj_dict = {key: value for key, value in obj.item().items()}\n",
    "        data_dicts.append(obj_dict)\n",
    "    else:\n",
    "        data_dicts.append(obj)"
   ]
  },
  {
   "cell_type": "code",
   "execution_count": 71,
   "metadata": {},
   "outputs": [
    {
     "name": "stdout",
     "output_type": "stream",
     "text": [
      "dict_keys(['R_k_cam_np', 'T_k_cam_np', 'intrinsics', 'ego_markers.ref', 'ego_markers.label', 'R0', 'T0', 'dist8'])\n",
      "[[-0.9893062114715576, -0.10841143131256104, 0.09757369011640549], [-0.11695919930934906, 0.9893525242805481, -0.08661464601755142], [-0.08714475482702255, -0.09710053354501724, -0.9914523363113403]]\n",
      "[[-0.09789067506790161], [0.09638506919145584], [1.6738309860229492]]\n",
      "dict_keys(['left', 'right'])\n",
      "(889, 7)\n",
      "dict_keys(['transl', 'global_orient', 'body_pose', 'jaw_pose', 'leye_pose', 'reye_pose', 'left_hand_pose', 'right_hand_pose'])\n"
     ]
    }
   ],
   "source": [
    "print(data_dicts[0].keys())\n",
    "print(data_dicts[0]['R0'])\n",
    "print(data_dicts[0]['T0'])\n",
    "print(data_dicts[1].keys())\n",
    "print(data_dicts[2].shape)\n",
    "print(data_dicts[3].keys())\n"
   ]
  },
  {
   "cell_type": "code",
   "execution_count": 69,
   "metadata": {},
   "outputs": [
    {
     "name": "stdout",
     "output_type": "stream",
     "text": [
      "[ 1.1661320e+00  3.7032470e-01  3.4801326e+00 -2.3939130e+00\n",
      "  1.2894936e+02 -1.6031013e+02  1.0344468e+03]\n"
     ]
    }
   ],
   "source": [
    "print(data_dicts[2][320])\n"
   ]
  }
 ],
 "metadata": {
  "kernelspec": {
   "display_name": "casar_env",
   "language": "python",
   "name": "python3"
  },
  "language_info": {
   "codemirror_mode": {
    "name": "ipython",
    "version": 3
   },
   "file_extension": ".py",
   "mimetype": "text/x-python",
   "name": "python",
   "nbconvert_exporter": "python",
   "pygments_lexer": "ipython3",
   "version": "3.9.7"
  }
 },
 "nbformat": 4,
 "nbformat_minor": 2
}
